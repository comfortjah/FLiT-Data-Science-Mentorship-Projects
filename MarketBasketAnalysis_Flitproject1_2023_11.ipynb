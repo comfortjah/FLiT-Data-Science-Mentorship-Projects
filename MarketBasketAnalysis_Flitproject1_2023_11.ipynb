{
  "cells": [
    {
      "cell_type": "markdown",
      "metadata": {
        "id": "view-in-github",
        "colab_type": "text"
      },
      "source": [
        "<a href=\"https://colab.research.google.com/github/comfortjah/FLiT-Data-Science-Mentorship-Projects/blob/main/MarketBasketAnalysis_Flitproject1_2023_11.ipynb\" target=\"_parent\"><img src=\"https://colab.research.google.com/assets/colab-badge.svg\" alt=\"Open In Colab\"/></a>"
      ]
    },
    {
      "cell_type": "markdown",
      "id": "741049f3",
      "metadata": {
        "id": "741049f3"
      },
      "source": [
        "# Market Basket Analysis"
      ]
    },
    {
      "cell_type": "markdown",
      "id": "83fe9e8f",
      "metadata": {
        "id": "83fe9e8f"
      },
      "source": [
        "## FLiT Apprenticeship First Project"
      ]
    },
    {
      "cell_type": "markdown",
      "id": "f426a652",
      "metadata": {
        "id": "f426a652"
      },
      "source": [
        "### Importing Python Libraries."
      ]
    },
    {
      "cell_type": "code",
      "execution_count": null,
      "id": "2a296acb",
      "metadata": {
        "id": "2a296acb"
      },
      "outputs": [],
      "source": [
        "import numpy as np # Lib for linear algebra\n",
        "import pandas as pd # lib for data processing\n",
        "import seaborn as sns # lib for plotting graphs\n",
        "import matplotlib.pyplot as plt # lib also for plotting\n",
        "import io\n",
        "from google.colab import drive\n",
        "drive.mount('/content/drive')"
      ]
    },
    {
      "cell_type": "markdown",
      "id": "4c027527",
      "metadata": {
        "id": "4c027527"
      },
      "source": [
        "### Importing the Dataset and reading the first five rows."
      ]
    },
    {
      "cell_type": "code",
      "execution_count": null,
      "id": "d8ea0acd",
      "metadata": {
        "id": "d8ea0acd"
      },
      "outputs": [],
      "source": [
        "!pwd\n",
        "df =pd.read_csv(\"drive/My Drive/Colab Notebooks/Market Basket Analysis - Groceries_dataset.csv\")\n",
        "df.head()"
      ]
    },
    {
      "cell_type": "markdown",
      "id": "185ec240",
      "metadata": {
        "id": "185ec240"
      },
      "source": [
        "### Getting the Data overview."
      ]
    },
    {
      "cell_type": "code",
      "execution_count": null,
      "id": "f79832a5",
      "metadata": {
        "id": "f79832a5"
      },
      "outputs": [],
      "source": [
        "df.info()"
      ]
    },
    {
      "cell_type": "markdown",
      "id": "4a1b65fe",
      "metadata": {
        "id": "4a1b65fe"
      },
      "source": [
        "### Checking for duplicate Values"
      ]
    },
    {
      "cell_type": "code",
      "execution_count": null,
      "id": "32fa2f8d",
      "metadata": {
        "id": "32fa2f8d"
      },
      "outputs": [],
      "source": [
        "if (duplicated := df.duplicated(keep=False)).any():\n",
        "    some_duplicates = df[duplicated].sort_values(by=df.columns.to_list()).head()\n",
        "    print(f\"Dataframe has one or more duplicated rows, for example:\\n{some_duplicates}\")"
      ]
    },
    {
      "cell_type": "markdown",
      "id": "4e44b3b5",
      "metadata": {
        "id": "4e44b3b5"
      },
      "source": [
        "### Checking for Null values."
      ]
    },
    {
      "cell_type": "code",
      "execution_count": null,
      "id": "2deed3cf",
      "metadata": {
        "id": "2deed3cf"
      },
      "outputs": [],
      "source": [
        "df.isnull().sum().sort_values(ascending = False)"
      ]
    },
    {
      "cell_type": "markdown",
      "id": "6e29a9f0",
      "metadata": {
        "id": "6e29a9f0"
      },
      "source": [
        "### Converting the date datatype"
      ]
    },
    {
      "cell_type": "code",
      "execution_count": null,
      "id": "129af1eb",
      "metadata": {
        "id": "129af1eb"
      },
      "outputs": [],
      "source": [
        "df['date'] = pd.to_datetime(df[\"Date\"])\n",
        "df.info()"
      ]
    },
    {
      "cell_type": "code",
      "execution_count": null,
      "id": "90867f1a",
      "metadata": {
        "id": "90867f1a"
      },
      "outputs": [],
      "source": [
        "df.head()"
      ]
    },
    {
      "cell_type": "markdown",
      "id": "da00e85e",
      "metadata": {
        "id": "da00e85e"
      },
      "source": [
        "### Plotting a Bar Chart for Item Distribution"
      ]
    },
    {
      "cell_type": "code",
      "execution_count": null,
      "id": "0fab435f",
      "metadata": {
        "id": "0fab435f"
      },
      "outputs": [],
      "source": [
        "Item_distr = df.groupby( by = 'itemDescription').size().reset_index(name = 'Frequency').sort_values(by = 'Frequency', ascending = False).head(10)\n",
        "\n",
        "# Declaring Variables\n",
        "bars = Item_distr[\"itemDescription\"]\n",
        "height = Item_distr[\"Frequency\"]\n",
        "x_pos = np.arange(len(bars))\n",
        "\n",
        "# Bar chart Discription\n",
        "\n",
        "plt.figure(figsize = (16,9))\n",
        "\n",
        "plt.bar(x_pos, height, color=(0.3,0.4,0.5,0.4))\n",
        "\n",
        "plt.title(\"Top 10 Sold Items\")\n",
        "\n",
        "plt.xlabel(\"Name of Item\")\n",
        "plt.ylabel(\"Quantity Sold\")\n",
        "\n",
        "plt.xticks(x_pos, bars)\n",
        "\n",
        "plt.show()\n",
        "\n",
        "\n",
        "\n"
      ]
    },
    {
      "cell_type": "markdown",
      "id": "1473fe06",
      "metadata": {
        "id": "1473fe06"
      },
      "source": [
        "### Setting Date as the Index"
      ]
    },
    {
      "cell_type": "code",
      "execution_count": null,
      "id": "7e4d9889",
      "metadata": {
        "id": "7e4d9889"
      },
      "outputs": [],
      "source": [
        "df_date = df.set_index(['Date'])\n",
        "df_date"
      ]
    },
    {
      "source": [
        "from matplotlib import pyplot as plt\n",
        "import seaborn as sns\n",
        "def _plot_series(series, series_name, series_index=0):\n",
        "  from matplotlib import pyplot as plt\n",
        "  import seaborn as sns\n",
        "  palette = list(sns.palettes.mpl_palette('Dark2'))\n",
        "  counted = (series['date']\n",
        "                .value_counts()\n",
        "              .reset_index(name='counts')\n",
        "              .rename({'index': 'date'}, axis=1)\n",
        "              .sort_values('date', ascending=True))\n",
        "  xs = counted['date']\n",
        "  ys = counted['counts']\n",
        "  plt.plot(xs, ys, label=series_name, color=palette[series_index % len(palette)])\n",
        "\n",
        "fig, ax = plt.subplots(figsize=(10, 5.2), layout='constrained')\n",
        "df_sorted = df_date.sort_values('date', ascending=True)\n",
        "_plot_series(df_sorted, '')\n",
        "sns.despine(fig=fig, ax=ax)\n",
        "plt.xlabel('date')\n",
        "_ = plt.ylabel('count()')"
      ],
      "cell_type": "code",
      "metadata": {
        "id": "tpkvyZdBs3wL"
      },
      "id": "tpkvyZdBs3wL",
      "execution_count": null,
      "outputs": []
    },
    {
      "source": [
        "from matplotlib import pyplot as plt\n",
        "import seaborn as sns\n",
        "def _plot_series(series, series_name, series_index=0):\n",
        "  from matplotlib import pyplot as plt\n",
        "  import seaborn as sns\n",
        "  palette = list(sns.palettes.mpl_palette('Dark2'))\n",
        "  xs = series['date']\n",
        "  ys = series['Member_number']\n",
        "\n",
        "  plt.plot(xs, ys, label=series_name, color=palette[series_index % len(palette)])\n",
        "\n",
        "fig, ax = plt.subplots(figsize=(10, 5.2), layout='constrained')\n",
        "df_sorted = df_date.sort_values('date', ascending=True)\n",
        "_plot_series(df_sorted, '')\n",
        "sns.despine(fig=fig, ax=ax)\n",
        "plt.xlabel('date')\n",
        "_ = plt.ylabel('Member_number')"
      ],
      "cell_type": "code",
      "metadata": {
        "id": "fJxXDTkVsleI"
      },
      "id": "fJxXDTkVsleI",
      "execution_count": null,
      "outputs": []
    },
    {
      "source": [
        "from matplotlib import pyplot as plt\n",
        "df_date['Member_number'].plot(kind='hist', bins=20, title='Member_number')\n",
        "plt.gca().spines[['top', 'right',]].set_visible(False)"
      ],
      "cell_type": "code",
      "metadata": {
        "id": "FHIp1SCcshKc"
      },
      "id": "FHIp1SCcshKc",
      "execution_count": null,
      "outputs": []
    },
    {
      "cell_type": "markdown",
      "id": "de18555b",
      "metadata": {
        "id": "de18555b"
      },
      "source": [
        "### Plotting a Line graph"
      ]
    },
    {
      "cell_type": "code",
      "execution_count": null,
      "id": "86329ecf",
      "metadata": {
        "scrolled": true,
        "id": "86329ecf"
      },
      "outputs": [],
      "source": [
        "cust_level = df[[\"Member_number\", \"itemDescription\"]].sort_values(by = \"Member_number\", ascending = False)\n",
        "cust_level[\"itemDescription\"] = cust_level[\"itemDescription\"].str.strip()\n",
        "cust_level"
      ]
    },
    {
      "cell_type": "code",
      "execution_count": null,
      "id": "02bcdc7e",
      "metadata": {
        "id": "02bcdc7e"
      },
      "outputs": [],
      "source": [
        "transactions = [a[1][\"itemDescription\"].tolist() for a in list(cust_level.groupby([\"Member_number\"]))]"
      ]
    },
    {
      "cell_type": "code",
      "execution_count": null,
      "id": "e6db12b0",
      "metadata": {
        "id": "e6db12b0"
      },
      "outputs": [],
      "source": [
        "!pip install apyori\n",
        "from apyori import apriori\n",
        "rules = apriori(transactions = transactions, min_support = 0.002, min_confidence = 0.05, min_lift = 3, min_lenght = 2)"
      ]
    },
    {
      "cell_type": "code",
      "execution_count": null,
      "id": "fe39aa90",
      "metadata": {
        "id": "fe39aa90"
      },
      "outputs": [],
      "source": [
        "results = list(rules)"
      ]
    },
    {
      "cell_type": "code",
      "execution_count": null,
      "id": "a940ef37",
      "metadata": {
        "id": "a940ef37"
      },
      "outputs": [],
      "source": [
        "results"
      ]
    },
    {
      "cell_type": "code",
      "execution_count": null,
      "id": "c6a9c275",
      "metadata": {
        "id": "c6a9c275"
      },
      "outputs": [],
      "source": [
        "def inspect(results):\n",
        "    lhs = [tuple(result[2][0][0])[0] for result in results]\n",
        "    rhs = [tuple(result[2][0][1])[0] for result in results]\n",
        "    supports = [result[1] for result in results]\n",
        "    confidences = [result[2][0][2] for result in results]\n",
        "    lifts = [result[2][0][3] for result in results]\n",
        "    return list(zip(lhs, rhs, supports, confidences, lifts))\n",
        "\n",
        "Ridf = pd.DataFrame(inspect(results), columns = ['Left hand side', 'Right hand side', 'Support', 'Confidences', 'Lifts'])\n"
      ]
    },
    {
      "cell_type": "code",
      "source": [
        "Ridf.nlargest(n = 10, columns = \"Lift\")"
      ],
      "metadata": {
        "id": "Y-kFIe0p4REz"
      },
      "id": "Y-kFIe0p4REz",
      "execution_count": null,
      "outputs": []
    }
  ],
  "metadata": {
    "kernelspec": {
      "display_name": "Python 3 (ipykernel)",
      "language": "python",
      "name": "python3"
    },
    "language_info": {
      "codemirror_mode": {
        "name": "ipython",
        "version": 3
      },
      "file_extension": ".py",
      "mimetype": "text/x-python",
      "name": "python",
      "nbconvert_exporter": "python",
      "pygments_lexer": "ipython3",
      "version": "3.9.13"
    },
    "colab": {
      "provenance": [],
      "include_colab_link": true
    }
  },
  "nbformat": 4,
  "nbformat_minor": 5
}